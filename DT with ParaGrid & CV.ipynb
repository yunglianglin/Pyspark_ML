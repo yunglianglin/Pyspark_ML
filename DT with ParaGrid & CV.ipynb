{
 "cells": [
  {
   "cell_type": "markdown",
   "metadata": {},
   "source": [
    "# Start a Spark session "
   ]
  },
  {
   "cell_type": "code",
   "execution_count": 1,
   "metadata": {},
   "outputs": [],
   "source": [
    "from pyspark.sql import SparkSession\n",
    "spark = SparkSession.builder.appName('DT_1').getOrCreate()"
   ]
  },
  {
   "cell_type": "markdown",
   "metadata": {},
   "source": [
    "# Load data from HDFS"
   ]
  },
  {
   "cell_type": "code",
   "execution_count": 2,
   "metadata": {},
   "outputs": [],
   "source": [
    "row_df = spark.read.format(\"csv\")\\\n",
    "         .option(\"header\", \"true\")\\\n",
    "         .option(\"delimiter\", \"\\t\")\\\n",
    "         .load(\"hdfs://mycluster/user/dtree/data/train.tsv\")"
   ]
  },
  {
   "cell_type": "markdown",
   "metadata": {},
   "source": [
    "# Pre-preparation of data"
   ]
  },
  {
   "cell_type": "code",
   "execution_count": 14,
   "metadata": {},
   "outputs": [],
   "source": [
    "#set up UDF Function\n",
    "from pyspark.sql.functions import udf\n",
    "\n",
    "def replace_question(x):\n",
    "    return (\"0\" if x==\"?\" else x)\n",
    "\n",
    "#transform replace_question into DataFrames UDF \n",
    "replace_question=udf(replace_question)"
   ]
  },
  {
   "cell_type": "markdown",
   "metadata": {},
   "source": [
    "#####   the column names in row_df\n",
    "'url',\n",
    " 'urlid',\n",
    " 'boilerplate',\n",
    " 'alchemy_category',\n",
    " 'alchemy_category_score',\n",
    " 'avglinksize',\n",
    " 'commonlinkratio_1',\n",
    " 'commonlinkratio_2',\n",
    " 'commonlinkratio_3',\n",
    " 'commonlinkratio_4',\n",
    " 'compression_ratio',\n",
    " 'embed_ratio',\n",
    " 'framebased',\n",
    " 'frameTagRatio',\n",
    " 'hasDomainLink',\n",
    " 'html_ratio',\n",
    " 'image_ratio',\n",
    " 'is_news',\n",
    " 'lengthyLinkDomain',\n",
    " 'linkwordscore',\n",
    " 'news_front_page',\n",
    " 'non_markup_alphanum_characters',\n",
    " 'numberOfLinks',\n",
    " 'numwords_in_url',\n",
    " 'parametrizedLinkRatio',\n",
    " 'spelling_errors_ratio',\n",
    " 'label'\n",
    " \n",
    " categorrical data -->alchemy category\n",
    " \n",
    " numerical data -->alchemy_category_score~spelling_errors_ratio"
   ]
  },
  {
   "cell_type": "code",
   "execution_count": 15,
   "metadata": {},
   "outputs": [],
   "source": [
    "from pyspark.sql.functions import col \n",
    "\n",
    "df = row_df.select(\n",
    "    ['url', 'alchemy_category']+  #transform string datatype to double ->numerical\n",
    "    [replace_question(col(column)).cast(\"double\").alias(column) \n",
    "    for column in row_df.columns[4:]])"
   ]
  },
  {
   "cell_type": "markdown",
   "metadata": {},
   "source": [
    "# Split data into training set & test set"
   ]
  },
  {
   "cell_type": "code",
   "execution_count": 16,
   "metadata": {},
   "outputs": [],
   "source": [
    "train_df, test_df = df.randomSplit([0.7, 0.3])"
   ]
  },
  {
   "cell_type": "code",
   "execution_count": 62,
   "metadata": {},
   "outputs": [
    {
     "data": {
      "text/html": [
       "<img src=\"spark_pipeline.PNG\", width=450, height=200>\n"
      ],
      "text/plain": [
       "<IPython.core.display.HTML object>"
      ]
     },
     "metadata": {},
     "output_type": "display_data"
    }
   ],
   "source": [
    "%%html\n",
    "<img src=\"spark_pipeline.PNG\", width=450, height=200>"
   ]
  },
  {
   "cell_type": "markdown",
   "metadata": {},
   "source": [
    "# Build a pipeline"
   ]
  },
  {
   "cell_type": "code",
   "execution_count": 17,
   "metadata": {},
   "outputs": [],
   "source": [
    "from pyspark.ml import Pipeline\n",
    "from pyspark.ml.feature import StringIndexer, OneHotEncoderEstimator, VectorAssembler\n",
    "from pyspark.ml.classification import DecisionTreeClassifier\n",
    "from pyspark.ml.tuning import ParamGridBuilder, CrossValidator\n",
    "from pyspark.ml.evaluation import BinaryClassificationEvaluator\n",
    "\n",
    "StringIndexer = StringIndexer(\n",
    "                    inputCol='alchemy_category',\n",
    "                    outputCol='alchemy_category_Index')\n",
    "\n",
    "encoder = OneHotEncoderEstimator(dropLast=False,\n",
    "                       inputCols=[\"alchemy_category_Index\"],\n",
    "                       outputCols=[\"alchemy_category_IndexVec\"])\n",
    "\n",
    "assemblerInputs=['alchemy_category_IndexVec']+row_df.columns[4:-1]\n",
    "assembler = VectorAssembler(\n",
    "            inputCols=assemblerInputs,\n",
    "            outputCol=\"features\")\n",
    "\n",
    "dt = DecisionTreeClassifier(labelCol=\"label\", featuresCol=\"features\")\n",
    "\n",
    "#to build models with different parameter set -> 2(impurity)*3(depth)*3(bins)=18 models\n",
    "paramGrid = ParamGridBuilder()\\\n",
    "    .addGrid(dt.impurity, [\"gini\",\"entropy\"])\\\n",
    "    .addGrid(dt.maxDepth, [5, 10, 15])\\\n",
    "    .addGrid(dt.maxBins, [10,15,20])\\\n",
    "    .build()\n",
    "\n",
    "evaluator = BinaryClassificationEvaluator(\n",
    "                rawPredictionCol=\"rawPrediction\",\n",
    "                labelCol=\"label\",\n",
    "                metricName=\"areaUnderROC\")\n",
    "\n",
    "#numFolds=3 ->two-third of training set is sub-training set, \n",
    "#one-third of training set is validation set\n",
    "#each model will be validated for three times beacuse numfolds=3\n",
    "#thus, the number of iteration will be 18*3=54 times\n",
    "cv=CrossValidator(estimator=dt, evaluator=evaluator,\n",
    "                  estimatorParamMaps=paramGrid, numFolds=3)\n",
    "\n",
    "cv_pipeline = Pipeline(stages=[StringIndexer,encoder,assembler, cv])"
   ]
  },
  {
   "cell_type": "markdown",
   "metadata": {},
   "source": [
    "# Create a pipeline model"
   ]
  },
  {
   "cell_type": "code",
   "execution_count": 22,
   "metadata": {},
   "outputs": [],
   "source": [
    "#.fit -> to train a pipeline model \n",
    "cv_pipelineModel=cv_pipeline.fit(train_df)"
   ]
  },
  {
   "cell_type": "code",
   "execution_count": 26,
   "metadata": {},
   "outputs": [
    {
     "data": {
      "text/plain": [
       "pyspark.ml.pipeline.PipelineModel"
      ]
     },
     "execution_count": 26,
     "metadata": {},
     "output_type": "execute_result"
    }
   ],
   "source": [
    "type(cv_pipelineModel)"
   ]
  },
  {
   "cell_type": "code",
   "execution_count": 20,
   "metadata": {},
   "outputs": [
    {
     "data": {
      "text/plain": [
       "[StringIndexer_4354a6f57209c862fd95,\n",
       " OneHotEncoderEstimator_4e6bb53284d55eb85583,\n",
       " VectorAssembler_4b4ea7be58d97270b8c2,\n",
       " CrossValidator_443e9b76dee01c5d26ee]"
      ]
     },
     "execution_count": 20,
     "metadata": {},
     "output_type": "execute_result"
    }
   ],
   "source": [
    "#CrossValidator will pick up the best model\n",
    "cv_pipeline.getStages()"
   ]
  },
  {
   "cell_type": "markdown",
   "metadata": {},
   "source": [
    "# Check the best model "
   ]
  },
  {
   "cell_type": "code",
   "execution_count": 57,
   "metadata": {},
   "outputs": [],
   "source": [
    "bestModel=cv_pipelineModel.stages[3].bestModel"
   ]
  },
  {
   "cell_type": "code",
   "execution_count": 58,
   "metadata": {},
   "outputs": [
    {
     "data": {
      "text/plain": [
       "DecisionTreeClassificationModel (uid=DecisionTreeClassifier_413ab7a66b5b2713b18f) of depth 15 with 1377 nodes"
      ]
     },
     "execution_count": 58,
     "metadata": {},
     "output_type": "execute_result"
    }
   ],
   "source": [
    "bestModel"
   ]
  },
  {
   "cell_type": "code",
   "execution_count": 61,
   "metadata": {},
   "outputs": [
    {
     "data": {
      "text/plain": [
       "{Param(parent='DecisionTreeClassifier_413ab7a66b5b2713b18f', name='cacheNodeIds', doc='If false, the algorithm will pass trees to executors to match instances with nodes. If true, the algorithm will cache node IDs for each instance. Caching can speed up training of deeper trees.'): False,\n",
       " Param(parent='DecisionTreeClassifier_413ab7a66b5b2713b18f', name='checkpointInterval', doc='set checkpoint interval (>= 1) or disable checkpoint (-1). E.g. 10 means that the cache will get checkpointed every 10 iterations. Note: this setting will be ignored if the checkpoint directory is not set in the SparkContext'): 10,\n",
       " Param(parent='DecisionTreeClassifier_413ab7a66b5b2713b18f', name='featuresCol', doc='features column name'): 'features',\n",
       " Param(parent='DecisionTreeClassifier_413ab7a66b5b2713b18f', name='impurity', doc='Criterion used for information gain calculation (case-insensitive). Supported options: entropy, gini'): 'gini',\n",
       " Param(parent='DecisionTreeClassifier_413ab7a66b5b2713b18f', name='labelCol', doc='label column name'): 'label',\n",
       " Param(parent='DecisionTreeClassifier_413ab7a66b5b2713b18f', name='maxBins', doc='Max number of bins for discretizing continuous features.  Must be >=2 and >= number of categories for any categorical feature.'): 20,\n",
       " Param(parent='DecisionTreeClassifier_413ab7a66b5b2713b18f', name='maxDepth', doc='Maximum depth of the tree. (>= 0) E.g., depth 0 means 1 leaf node; depth 1 means 1 internal node + 2 leaf nodes.'): 15,\n",
       " Param(parent='DecisionTreeClassifier_413ab7a66b5b2713b18f', name='maxMemoryInMB', doc='Maximum memory in MB allocated to histogram aggregation.'): 256,\n",
       " Param(parent='DecisionTreeClassifier_413ab7a66b5b2713b18f', name='minInfoGain', doc='Minimum information gain for a split to be considered at a tree node.'): 0.0,\n",
       " Param(parent='DecisionTreeClassifier_413ab7a66b5b2713b18f', name='minInstancesPerNode', doc='Minimum number of instances each child must have after split.  If a split causes the left or right child to have fewer than minInstancesPerNode, the split will be discarded as invalid. Should be >= 1.'): 1,\n",
       " Param(parent='DecisionTreeClassifier_413ab7a66b5b2713b18f', name='predictionCol', doc='prediction column name'): 'prediction',\n",
       " Param(parent='DecisionTreeClassifier_413ab7a66b5b2713b18f', name='probabilityCol', doc='Column name for predicted class conditional probabilities. Note: Not all models output well-calibrated probability estimates! These probabilities should be treated as confidences, not precise probabilities'): 'probability',\n",
       " Param(parent='DecisionTreeClassifier_413ab7a66b5b2713b18f', name='rawPredictionCol', doc='raw prediction (a.k.a. confidence) column name'): 'rawPrediction',\n",
       " Param(parent='DecisionTreeClassifier_413ab7a66b5b2713b18f', name='seed', doc='random seed'): 956191873026065186}"
      ]
     },
     "execution_count": 61,
     "metadata": {},
     "output_type": "execute_result"
    }
   ],
   "source": [
    "#have a look on the parameter set for the best model\n",
    "bestModel.extractParamMap()"
   ]
  },
  {
   "cell_type": "markdown",
   "metadata": {},
   "source": [
    "# Evaluate the model with AUC"
   ]
  },
  {
   "cell_type": "code",
   "execution_count": 25,
   "metadata": {},
   "outputs": [
    {
     "data": {
      "text/plain": [
       "0.6678613522590456"
      ]
     },
     "execution_count": 25,
     "metadata": {},
     "output_type": "execute_result"
    }
   ],
   "source": [
    "# output a new DataFrame with predicted labels appended as a column\n",
    "predictions = cv_pipelineModel.transform(test_df)\n",
    "auc = evaluator.evaluate(predictions)\n",
    "auc"
   ]
  },
  {
   "cell_type": "markdown",
   "metadata": {},
   "source": [
    "# Save and load the model"
   ]
  },
  {
   "cell_type": "code",
   "execution_count": 27,
   "metadata": {},
   "outputs": [],
   "source": [
    "cv_pipelineModel.save(\"hdfs://mycluster/user/oracle/dt/model\")"
   ]
  },
  {
   "cell_type": "code",
   "execution_count": 28,
   "metadata": {},
   "outputs": [],
   "source": [
    "from pyspark.ml import Pipeline\n",
    "reloaded_cv_model= Pipeline.load(\"hdfs://mycluster/user/oracle/dt/model\")"
   ]
  },
  {
   "cell_type": "code",
   "execution_count": 29,
   "metadata": {},
   "outputs": [
    {
     "data": {
      "text/plain": [
       "PipelineModel_47dc9380f9f430fb2e42"
      ]
     },
     "execution_count": 29,
     "metadata": {},
     "output_type": "execute_result"
    }
   ],
   "source": [
    "reloaded_cv_model"
   ]
  },
  {
   "cell_type": "code",
   "execution_count": null,
   "metadata": {},
   "outputs": [],
   "source": []
  }
 ],
 "metadata": {
  "kernelspec": {
   "display_name": "Python 3",
   "language": "python",
   "name": "python3"
  },
  "language_info": {
   "codemirror_mode": {
    "name": "ipython",
    "version": 3
   },
   "file_extension": ".py",
   "mimetype": "text/x-python",
   "name": "python",
   "nbconvert_exporter": "python",
   "pygments_lexer": "ipython3",
   "version": "3.7.1"
  }
 },
 "nbformat": 4,
 "nbformat_minor": 2
}
